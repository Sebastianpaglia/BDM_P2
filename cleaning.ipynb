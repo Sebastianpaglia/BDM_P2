{
 "cells": [
  {
   "cell_type": "code",
   "execution_count": 1,
   "metadata": {
    "is_executing": true,
    "pycharm": {
     "name": "#%%\n"
    }
   },
   "outputs": [],
   "source": [
    "import pandas as pd\n",
    "import os"
   ]
  },
  {
   "cell_type": "code",
   "execution_count": 28,
   "metadata": {
    "pycharm": {
     "name": "#%%\n"
    }
   },
   "outputs": [],
   "source": [
    "df10 = pd.read_csv('data/incidents/2010_incidents_gestionats_gub.csv')\n",
    "df20 = pd.read_csv('data/incidents/2020_incidents_gestionats_gub.csv')\n",
    "df21 = pd.read_csv('data/incidents/2021_incidents_gestionats_gub.csv')\n",
    "df22 = pd.read_csv('data/incidents/2022_incidents_gestionats_gub.csv')"
   ]
  },
  {
   "cell_type": "code",
   "execution_count": 30,
   "metadata": {
    "scrolled": true,
    "pycharm": {
     "name": "#%%\n"
    }
   },
   "outputs": [
    {
     "name": "stdout",
     "output_type": "stream",
     "text": [
      "0\n",
      "0\n",
      "0\n"
     ]
    }
   ],
   "source": [
    "print(df20.duplicated().sum())\n",
    "print(df21.duplicated().sum())\n",
    "print(df22.duplicated().sum())"
   ]
  },
  {
   "cell_type": "code",
   "execution_count": 31,
   "metadata": {
    "pycharm": {
     "name": "#%%\n"
    }
   },
   "outputs": [
    {
     "name": "stdout",
     "output_type": "stream",
     "text": [
      "Codi_Incident           0\n",
      "Descripcio_Incident     0\n",
      "Codi_districte          0\n",
      "Nom_districte           0\n",
      "Codi_barri              0\n",
      "Nom_barri               0\n",
      "NK_Any                  0\n",
      "Mes_any                 0\n",
      "Nom_mes                 0\n",
      "Numero_incidents_GUB    0\n",
      "dtype: int64\n",
      "Codi_Incident           0\n",
      "Descripcio_Incident     0\n",
      "Codi_districte          0\n",
      "Nom_districte           0\n",
      "Codi_barri              0\n",
      "Nom_barri               0\n",
      "NK_Any                  0\n",
      "Mes_any                 0\n",
      "Nom_mes                 0\n",
      "Numero_incidents_GUB    0\n",
      "dtype: int64\n",
      "Codi_Incident           0\n",
      "Descripcio_Incident     0\n",
      "Codi_districte          0\n",
      "Nom_districte           0\n",
      "Codi_barri              0\n",
      "Nom_barri               0\n",
      "NK_Any                  0\n",
      "Mes_any                 0\n",
      "Nom_mes                 0\n",
      "Numero_incidents_GUB    0\n",
      "dtype: int64\n"
     ]
    }
   ],
   "source": [
    "print(df20.isnull().sum())\n",
    "print(df21.isnull().sum())\n",
    "print(df22.isnull().sum())"
   ]
  },
  {
   "cell_type": "code",
   "execution_count": null,
   "metadata": {
    "pycharm": {
     "name": "#%%\n"
    }
   },
   "outputs": [],
   "source": []
  },
  {
   "cell_type": "code",
   "execution_count": 21,
   "metadata": {
    "pycharm": {
     "name": "#%%\n"
    }
   },
   "outputs": [],
   "source": [
    "all_data = []\n"
   ]
  },
  {
   "cell_type": "code",
   "execution_count": 22,
   "metadata": {
    "pycharm": {
     "name": "#%%\n"
    }
   },
   "outputs": [],
   "source": [
    "for filename in os.listdir(directory):\n",
    "    if filename.endswith(\".csv\"):\n",
    "        file_path = os.path.join(directory, filename)\n",
    "        df = pd.read_csv(file_path)\n",
    "        df.columns = ['IncidentId', 'IncidentName', 'DistrictId', 'DistrictName', 'NeighId', 'NeighName', 'Year', 'MonthNum', 'MonthName', 'Incidents']\n",
    "        all_data.append(df)\n"
   ]
  },
  {
   "cell_type": "code",
   "execution_count": 16,
   "metadata": {
    "pycharm": {
     "name": "#%%\n"
    }
   },
   "outputs": [],
   "source": [
    "merged_data = pd.concat(all_data, ignore_index=True)\n"
   ]
  },
  {
   "cell_type": "code",
   "execution_count": 17,
   "metadata": {
    "pycharm": {
     "name": "#%%\n"
    }
   },
   "outputs": [
    {
     "data": {
      "text/html": [
       "<div>\n",
       "<style scoped>\n",
       "    .dataframe tbody tr th:only-of-type {\n",
       "        vertical-align: middle;\n",
       "    }\n",
       "\n",
       "    .dataframe tbody tr th {\n",
       "        vertical-align: top;\n",
       "    }\n",
       "\n",
       "    .dataframe thead th {\n",
       "        text-align: right;\n",
       "    }\n",
       "</style>\n",
       "<table border=\"1\" class=\"dataframe\">\n",
       "  <thead>\n",
       "    <tr style=\"text-align: right;\">\n",
       "      <th></th>\n",
       "      <th>Codi Incident</th>\n",
       "      <th>Descripció Incident</th>\n",
       "      <th>Codi districte</th>\n",
       "      <th>Nom districte</th>\n",
       "      <th>Codi barri</th>\n",
       "      <th>Nom barri</th>\n",
       "      <th>NK Any</th>\n",
       "      <th>Mes de any</th>\n",
       "      <th>Nom mes</th>\n",
       "      <th>Número d'incidents GUB</th>\n",
       "      <th>...</th>\n",
       "      <th>IncidentId</th>\n",
       "      <th>IncidentName</th>\n",
       "      <th>DistrictId</th>\n",
       "      <th>DistrictName</th>\n",
       "      <th>NeighId</th>\n",
       "      <th>NeighName</th>\n",
       "      <th>Year</th>\n",
       "      <th>MonthNum</th>\n",
       "      <th>MonthName</th>\n",
       "      <th>Incidents</th>\n",
       "    </tr>\n",
       "  </thead>\n",
       "  <tbody>\n",
       "    <tr>\n",
       "      <th>0</th>\n",
       "      <td>210</td>\n",
       "      <td>ACCIDENTS DE TRÀNSIT SENSE FERITS             ...</td>\n",
       "      <td>7.0</td>\n",
       "      <td>Horta-Guinardó</td>\n",
       "      <td>35.0</td>\n",
       "      <td>el Guinardó</td>\n",
       "      <td>2010.0</td>\n",
       "      <td>7.0</td>\n",
       "      <td>Juliol</td>\n",
       "      <td>9.0</td>\n",
       "      <td>...</td>\n",
       "      <td>NaN</td>\n",
       "      <td>NaN</td>\n",
       "      <td>NaN</td>\n",
       "      <td>NaN</td>\n",
       "      <td>NaN</td>\n",
       "      <td>NaN</td>\n",
       "      <td>NaN</td>\n",
       "      <td>NaN</td>\n",
       "      <td>NaN</td>\n",
       "      <td>NaN</td>\n",
       "    </tr>\n",
       "    <tr>\n",
       "      <th>1</th>\n",
       "      <td>222</td>\n",
       "      <td>INFRACCIONS EN MOVIMENT                       ...</td>\n",
       "      <td>10.0</td>\n",
       "      <td>Sant Martí</td>\n",
       "      <td>66.0</td>\n",
       "      <td>el Parc i la Llacuna del Poblenou</td>\n",
       "      <td>2010.0</td>\n",
       "      <td>7.0</td>\n",
       "      <td>Juliol</td>\n",
       "      <td>17.0</td>\n",
       "      <td>...</td>\n",
       "      <td>NaN</td>\n",
       "      <td>NaN</td>\n",
       "      <td>NaN</td>\n",
       "      <td>NaN</td>\n",
       "      <td>NaN</td>\n",
       "      <td>NaN</td>\n",
       "      <td>NaN</td>\n",
       "      <td>NaN</td>\n",
       "      <td>NaN</td>\n",
       "      <td>NaN</td>\n",
       "    </tr>\n",
       "    <tr>\n",
       "      <th>2</th>\n",
       "      <td>410</td>\n",
       "      <td>ACTIVITATS MOLESTES EN ESPAIS PÚBLICS         ...</td>\n",
       "      <td>1.0</td>\n",
       "      <td>Ciutat Vella</td>\n",
       "      <td>1.0</td>\n",
       "      <td>el Raval</td>\n",
       "      <td>2010.0</td>\n",
       "      <td>7.0</td>\n",
       "      <td>Juliol</td>\n",
       "      <td>349.0</td>\n",
       "      <td>...</td>\n",
       "      <td>NaN</td>\n",
       "      <td>NaN</td>\n",
       "      <td>NaN</td>\n",
       "      <td>NaN</td>\n",
       "      <td>NaN</td>\n",
       "      <td>NaN</td>\n",
       "      <td>NaN</td>\n",
       "      <td>NaN</td>\n",
       "      <td>NaN</td>\n",
       "      <td>NaN</td>\n",
       "    </tr>\n",
       "    <tr>\n",
       "      <th>3</th>\n",
       "      <td>420</td>\n",
       "      <td>INCIDÈNCIES DE LOCALS                         ...</td>\n",
       "      <td>1.0</td>\n",
       "      <td>Ciutat Vella</td>\n",
       "      <td>2.0</td>\n",
       "      <td>el Barri Gòtic</td>\n",
       "      <td>2010.0</td>\n",
       "      <td>7.0</td>\n",
       "      <td>Juliol</td>\n",
       "      <td>50.0</td>\n",
       "      <td>...</td>\n",
       "      <td>NaN</td>\n",
       "      <td>NaN</td>\n",
       "      <td>NaN</td>\n",
       "      <td>NaN</td>\n",
       "      <td>NaN</td>\n",
       "      <td>NaN</td>\n",
       "      <td>NaN</td>\n",
       "      <td>NaN</td>\n",
       "      <td>NaN</td>\n",
       "      <td>NaN</td>\n",
       "    </tr>\n",
       "    <tr>\n",
       "      <th>4</th>\n",
       "      <td>420</td>\n",
       "      <td>INCIDÈNCIES DE LOCALS                         ...</td>\n",
       "      <td>1.0</td>\n",
       "      <td>Ciutat Vella</td>\n",
       "      <td>3.0</td>\n",
       "      <td>la Barceloneta</td>\n",
       "      <td>2010.0</td>\n",
       "      <td>7.0</td>\n",
       "      <td>Juliol</td>\n",
       "      <td>27.0</td>\n",
       "      <td>...</td>\n",
       "      <td>NaN</td>\n",
       "      <td>NaN</td>\n",
       "      <td>NaN</td>\n",
       "      <td>NaN</td>\n",
       "      <td>NaN</td>\n",
       "      <td>NaN</td>\n",
       "      <td>NaN</td>\n",
       "      <td>NaN</td>\n",
       "      <td>NaN</td>\n",
       "      <td>NaN</td>\n",
       "    </tr>\n",
       "  </tbody>\n",
       "</table>\n",
       "<p>5 rows × 30 columns</p>\n",
       "</div>"
      ],
      "text/plain": [
       "  Codi Incident                                Descripció Incident  \\\n",
       "0           210  ACCIDENTS DE TRÀNSIT SENSE FERITS             ...   \n",
       "1           222  INFRACCIONS EN MOVIMENT                       ...   \n",
       "2           410  ACTIVITATS MOLESTES EN ESPAIS PÚBLICS         ...   \n",
       "3           420  INCIDÈNCIES DE LOCALS                         ...   \n",
       "4           420  INCIDÈNCIES DE LOCALS                         ...   \n",
       "\n",
       "   Codi districte   Nom districte  Codi barri  \\\n",
       "0             7.0  Horta-Guinardó        35.0   \n",
       "1            10.0      Sant Martí        66.0   \n",
       "2             1.0    Ciutat Vella         1.0   \n",
       "3             1.0    Ciutat Vella         2.0   \n",
       "4             1.0    Ciutat Vella         3.0   \n",
       "\n",
       "                           Nom barri  NK Any  Mes de any Nom mes  \\\n",
       "0                        el Guinardó  2010.0         7.0  Juliol   \n",
       "1  el Parc i la Llacuna del Poblenou  2010.0         7.0  Juliol   \n",
       "2                           el Raval  2010.0         7.0  Juliol   \n",
       "3                     el Barri Gòtic  2010.0         7.0  Juliol   \n",
       "4                     la Barceloneta  2010.0         7.0  Juliol   \n",
       "\n",
       "   Número d'incidents GUB  ... IncidentId IncidentName  DistrictId  \\\n",
       "0                     9.0  ...        NaN          NaN         NaN   \n",
       "1                    17.0  ...        NaN          NaN         NaN   \n",
       "2                   349.0  ...        NaN          NaN         NaN   \n",
       "3                    50.0  ...        NaN          NaN         NaN   \n",
       "4                    27.0  ...        NaN          NaN         NaN   \n",
       "\n",
       "  DistrictName  NeighId NeighName  Year MonthNum MonthName  Incidents  \n",
       "0          NaN      NaN       NaN   NaN      NaN       NaN        NaN  \n",
       "1          NaN      NaN       NaN   NaN      NaN       NaN        NaN  \n",
       "2          NaN      NaN       NaN   NaN      NaN       NaN        NaN  \n",
       "3          NaN      NaN       NaN   NaN      NaN       NaN        NaN  \n",
       "4          NaN      NaN       NaN   NaN      NaN       NaN        NaN  \n",
       "\n",
       "[5 rows x 30 columns]"
      ]
     },
     "execution_count": 17,
     "metadata": {},
     "output_type": "execute_result"
    }
   ],
   "source": [
    "merged_data.head()"
   ]
  }
 ],
 "metadata": {
  "kernelspec": {
   "display_name": "Python 3 (ipykernel)",
   "language": "python",
   "name": "python3"
  },
  "language_info": {
   "codemirror_mode": {
    "name": "ipython",
    "version": 3
   },
   "file_extension": ".py",
   "mimetype": "text/x-python",
   "name": "python",
   "nbconvert_exporter": "python",
   "pygments_lexer": "ipython3",
   "version": "3.9.7"
  }
 },
 "nbformat": 4,
 "nbformat_minor": 1
}